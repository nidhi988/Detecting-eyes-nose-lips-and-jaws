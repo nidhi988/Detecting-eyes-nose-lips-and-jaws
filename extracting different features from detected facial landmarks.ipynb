{
 "cells": [
  {
   "cell_type": "code",
   "execution_count": null,
   "metadata": {},
   "outputs": [],
   "source": [
    "# import the necessary packages\n",
    "from imutils import face_utils\n",
    "import numpy as np\n",
    "import argparse\n",
    "import imutils\n",
    "import dlib\n",
    "import cv2\n",
    "# construct the argument parser and parse the arguments\n",
    "ap = argparse.ArgumentParser()\n",
    "ap.add_argument(\"-p\", \"--shape-predictor\", required=True,\n",
    "help=\"path to facial landmark predictor\")\n",
    "ap.add_argument(\"-i\", \"--image\", required=True,\n",
    "help=\"path to input image\")\n",
    "args = vars(ap.parse_args())\n",
    "# initialize dlib's face detector (HOG-based) and then create\n",
    "# the facial landmark predictor\n",
    "detector = dlib.get_frontal_face_detector()\n",
    "predictor = dlib.shape_predictor(args[\"shape_predictor\"])\n",
    "# load the input image, resize it, and convert it to grayscale\n",
    "image = cv2.imread(args[\"image\"])\n",
    "image = imutils.resize(image, width=500)\n",
    "gray = cv2.cvtColor(image, cv2.COLOR_BGR2GRAY)\n",
    "# detect faces in the grayscale image\n",
    "rects = detector(gray, 1)"
   ]
  },
  {
   "cell_type": "code",
   "execution_count": null,
   "metadata": {},
   "outputs": [],
   "source": [
    "# loop over the face detections\n",
    "for (i, rect) in enumerate(rects):\n",
    "# determine the facial landmarks for the face region, then\n",
    "# convert the landmark (x, y)-coordinates to a NumPy array\n",
    "shape = predictor(gray, rect)\n",
    "shape = face_utils.shape_to_np(shape)\n",
    "# loop over the face parts individually\n",
    "for (name, (i, j)) in face_utils.FACIAL_LANDMARKS_IDXS.items():\n",
    "# clone the original image so we can draw on it, then\n",
    "# display the name of the face part on the image\n",
    "clone = image.copy()\n",
    "cv2.putText(clone, name, (10, 30), cv2.FONT_HERSHEY_SIMPLEX,\n",
    "0.7, (0, 0, 255), 2)\n",
    "# loop over the subset of facial landmarks, drawing the\n",
    "# specific face part\n",
    "for (x, y) in shape[i:j]:\n",
    "cv2.circle(clone, (x, y), 1, (0, 0, 255), -1)"
   ]
  },
  {
   "cell_type": "code",
   "execution_count": null,
   "metadata": {},
   "outputs": [],
   "source": [
    "# extract the ROI of the face region as a separate image\n",
    "(x, y, w, h) = cv2.boundingRect(np.array([shape[i:j]]))\n",
    "roi = image[y:y + h, x:x + w]\n",
    "roi = imutils.resize(roi, width=250, inter=cv2.INTER_CUBIC)\n",
    "# show the particular face part\n",
    "cv2.imshow(\"ROI\", roi)\n",
    "cv2.imshow(\"Image\", clone)\n",
    "cv2.waitKey(0)\n",
    "# visualize all facial landmarks with a transparent overlay\n",
    "output = face_utils.visualize_facial_landmarks(image, shape)\n",
    "cv2.imshow(\"Image\", output)\n",
    "cv2.waitKey(0)"
   ]
  }
 ],
 "metadata": {
  "kernelspec": {
   "display_name": "Python 3",
   "language": "python",
   "name": "python3"
  },
  "language_info": {
   "codemirror_mode": {
    "name": "ipython",
    "version": 3
   },
   "file_extension": ".py",
   "mimetype": "text/x-python",
   "name": "python",
   "nbconvert_exporter": "python",
   "pygments_lexer": "ipython3",
   "version": "3.8.1"
  }
 },
 "nbformat": 4,
 "nbformat_minor": 2
}
